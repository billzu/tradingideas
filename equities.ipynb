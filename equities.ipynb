{
 "cells": [
  {
   "cell_type": "code",
   "execution_count": 21,
   "id": "initial_id",
   "metadata": {
    "collapsed": true,
    "ExecuteTime": {
     "end_time": "2024-02-04T02:49:39.186192400Z",
     "start_time": "2024-02-04T02:49:39.180687500Z"
    }
   },
   "outputs": [],
   "source": [
    "import pandas as pd\n",
    "from xbbg import blp\n",
    "import plotly.express as px\n",
    "import datetime as dt"
   ]
  },
  {
   "cell_type": "markdown",
   "source": [
    "Get SPX Membership"
   ],
   "metadata": {
    "collapsed": false
   },
   "id": "d986dfdf75410300"
  },
  {
   "cell_type": "code",
   "outputs": [],
   "source": [
    "spx_memb = blp.bds(\"SPX Index\", \"INDX_MEMBERS\")"
   ],
   "metadata": {
    "collapsed": false,
    "ExecuteTime": {
     "end_time": "2024-02-04T02:49:15.760323900Z",
     "start_time": "2024-02-04T02:49:15.472041200Z"
    }
   },
   "id": "ef9fee9fb32a6068",
   "execution_count": 20
  },
  {
   "cell_type": "code",
   "outputs": [],
   "source": [
    "start_date, end_date = '2010-01-01', dt.date.today()"
   ],
   "metadata": {
    "collapsed": false,
    "ExecuteTime": {
     "end_time": "2024-02-04T02:49:44.175075300Z",
     "start_time": "2024-02-04T02:49:44.169524400Z"
    }
   },
   "id": "54a20702d76342d",
   "execution_count": 22
  },
  {
   "cell_type": "code",
   "outputs": [],
   "source": [
    "ticker = spx_memb['member_ticker_and_exchange_code'].iloc[1:3] + ' Equity'\n",
    "field = ['PX_LAST']\n",
    "#bbgdata = pd.DataFrame()\n",
    "px = blp.bdh(ticker, field, start_date=start_date, end_date=end_date)\n",
    "#bbgdata = pd.concat([bbgdata, px], axis=1)"
   ],
   "metadata": {
    "collapsed": false,
    "ExecuteTime": {
     "end_time": "2024-02-04T03:47:54.655071200Z",
     "start_time": "2024-02-04T03:47:54.121332800Z"
    }
   },
   "id": "8006d2ebd57920ce",
   "execution_count": 35
  },
  {
   "cell_type": "code",
   "outputs": [],
   "source": [],
   "metadata": {
    "collapsed": false,
    "ExecuteTime": {
     "end_time": "2024-02-04T03:13:21.846826700Z",
     "start_time": "2024-02-04T03:13:21.842741100Z"
    }
   },
   "id": "bf8f3c745b6b45b8",
   "execution_count": 31
  },
  {
   "cell_type": "code",
   "outputs": [],
   "source": [],
   "metadata": {
    "collapsed": false
   },
   "id": "b0e4efc829152408"
  }
 ],
 "metadata": {
  "kernelspec": {
   "display_name": "Python 3",
   "language": "python",
   "name": "python3"
  },
  "language_info": {
   "codemirror_mode": {
    "name": "ipython",
    "version": 2
   },
   "file_extension": ".py",
   "mimetype": "text/x-python",
   "name": "python",
   "nbconvert_exporter": "python",
   "pygments_lexer": "ipython2",
   "version": "2.7.6"
  }
 },
 "nbformat": 4,
 "nbformat_minor": 5
}
