{
 "cells": [
  {
   "cell_type": "code",
   "execution_count": 2,
   "id": "initial_id",
   "metadata": {
    "collapsed": true,
    "ExecuteTime": {
     "end_time": "2024-04-18T01:03:40.902948200Z",
     "start_time": "2024-04-18T01:03:40.517683800Z"
    }
   },
   "outputs": [],
   "source": [
    "import pandas as pd\n",
    "from xbbg import blp\n",
    "import plotly.express as px\n",
    "import datetime as dt\n",
    "import numpy as np\n",
    "import seaborn as sns\n",
    "from matplotlib import pyplot as plt"
   ]
  },
  {
   "cell_type": "code",
   "outputs": [],
   "source": [
    "start_date, end_date = '2000-01-01', dt.date.today()\n",
    "bbg_tickers = ['SPX Index', 'NDX Index', 'USGG10YR Govt']\n",
    "bbg_data = blp.bdh(bbg_tickers, 'PX_LAST', start_date, end_date)"
   ],
   "metadata": {
    "collapsed": false,
    "ExecuteTime": {
     "end_time": "2024-04-18T01:11:40.912848900Z",
     "start_time": "2024-04-18T01:11:39.995868100Z"
    }
   },
   "id": "1b4d5ec4569f8b1",
   "execution_count": 31
  },
  {
   "cell_type": "code",
   "outputs": [],
   "source": [
    "bbg_data.columns = bbg_data.columns.get_level_values(0)"
   ],
   "metadata": {
    "collapsed": false,
    "ExecuteTime": {
     "end_time": "2024-04-18T01:11:41.285908300Z",
     "start_time": "2024-04-18T01:11:41.276167Z"
    }
   },
   "id": "3b68c8ca3da9ee42",
   "execution_count": 32
  },
  {
   "cell_type": "code",
   "outputs": [
    {
     "data": {
      "text/plain": "            SPX Index  NDX Index\n2024-04-11    5199.06   18307.98\n2024-04-12    5123.41   18003.49\n2024-04-15    5061.82   17706.83\n2024-04-16    5051.41   17713.66\n2024-04-17    5022.21   17493.62",
      "text/html": "<div>\n<style scoped>\n    .dataframe tbody tr th:only-of-type {\n        vertical-align: middle;\n    }\n\n    .dataframe tbody tr th {\n        vertical-align: top;\n    }\n\n    .dataframe thead th {\n        text-align: right;\n    }\n</style>\n<table border=\"1\" class=\"dataframe\">\n  <thead>\n    <tr style=\"text-align: right;\">\n      <th></th>\n      <th>SPX Index</th>\n      <th>NDX Index</th>\n    </tr>\n  </thead>\n  <tbody>\n    <tr>\n      <th>2024-04-11</th>\n      <td>5199.06</td>\n      <td>18307.98</td>\n    </tr>\n    <tr>\n      <th>2024-04-12</th>\n      <td>5123.41</td>\n      <td>18003.49</td>\n    </tr>\n    <tr>\n      <th>2024-04-15</th>\n      <td>5061.82</td>\n      <td>17706.83</td>\n    </tr>\n    <tr>\n      <th>2024-04-16</th>\n      <td>5051.41</td>\n      <td>17713.66</td>\n    </tr>\n    <tr>\n      <th>2024-04-17</th>\n      <td>5022.21</td>\n      <td>17493.62</td>\n    </tr>\n  </tbody>\n</table>\n</div>"
     },
     "execution_count": 33,
     "metadata": {},
     "output_type": "execute_result"
    }
   ],
   "source": [
    "bbg_data.tail()"
   ],
   "metadata": {
    "collapsed": false,
    "ExecuteTime": {
     "end_time": "2024-04-18T01:11:41.927378300Z",
     "start_time": "2024-04-18T01:11:41.920316100Z"
    }
   },
   "id": "4cabb3327973c299",
   "execution_count": 33
  },
  {
   "cell_type": "code",
   "outputs": [],
   "source": [],
   "metadata": {
    "collapsed": false
   },
   "id": "b7a5cbd763409516"
  }
 ],
 "metadata": {
  "kernelspec": {
   "display_name": "Python 3",
   "language": "python",
   "name": "python3"
  },
  "language_info": {
   "codemirror_mode": {
    "name": "ipython",
    "version": 2
   },
   "file_extension": ".py",
   "mimetype": "text/x-python",
   "name": "python",
   "nbconvert_exporter": "python",
   "pygments_lexer": "ipython2",
   "version": "2.7.6"
  }
 },
 "nbformat": 4,
 "nbformat_minor": 5
}
